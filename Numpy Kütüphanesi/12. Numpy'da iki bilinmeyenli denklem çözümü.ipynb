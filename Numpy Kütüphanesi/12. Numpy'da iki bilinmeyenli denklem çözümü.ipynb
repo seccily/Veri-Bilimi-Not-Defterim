{
 "cells": [
  {
   "cell_type": "markdown",
   "metadata": {},
   "source": [
    "<font color='green'>\n",
    "\n",
    "## Numpy'da iki bilinmeyenli denklem çözümü"
   ]
  },
  {
   "cell_type": "markdown",
   "metadata": {},
   "source": [
    "#### Çok bilinmeyenli denklemi çözebilmemiz için elimizde ' _en az_ '  bilinmeyen sayısı kadar denklem sayısı bulunmalıdır.\n",
    "\n",
    "![](https://lh3.googleusercontent.com/proxy/sLaQbm1MgS3hsxcsjJiMt84l5S19qIgcM7Hk0gxfpEBwCtUwr5y-3P6NjaMJ5DnGJkIk-bXpt2J4wcr1f25-W29v9noCnOo8pE4xLOIZyABAfEHSHNxDlEtaPXTWSV3XfeMkKLfTLt1aB1jHvj5CJJonHpP38C1_zmobLA)\n",
    ">  m>=n kuralı sağlanmadıkça denklemdeki bilinmeyenler çözülemez.\n",
    ">>  Ben alışkanlıklarımdan dolayı sabitler matrisine çözüm,sonuç matris ifadelerini kullanacağım. İkisi de aynı ifadedir.\n",
    "\n",
    "#### Örneğin elimizde \n",
    "\n",
    "####  5*x0 + x1 =12\n",
    "#### x0 + 3* x1 = 10\n",
    "\n",
    "#### şeklinde iki bilinmeyenli iki tane denklemimiz olsun."
   ]
  },
  {
   "cell_type": "markdown",
   "metadata": {},
   "source": [
    "##### Bizim için denklemde önemli olan iki kısım vardır: \n",
    "* 1. Bunlardan ilki bilinmeyenlerin katsayılarıdır. Bizim için x0 ve x1'in katsayıları\n",
    "*  2. İkincisi ise sonuçlar matrisi adını verdiğimiz denklemin sağında kalanlar. Bizim için sonuçlar matrisi 12 ve 10'u içerir."
   ]
  },
  {
   "cell_type": "markdown",
   "metadata": {},
   "source": [
    "### Şimdi anlattıklarımızı pratiğe dökelim :"
   ]
  },
  {
   "cell_type": "code",
   "execution_count": 2,
   "metadata": {},
   "outputs": [],
   "source": [
    "import numpy as np"
   ]
  },
  {
   "cell_type": "markdown",
   "metadata": {},
   "source": [
    "Önce katsayılar matrisini oluşturacağız. [5,1] dediğimiz kısımda birinci denklemin katsayılarından, [1,3] dediğimizde de ikinci denklemin katsayılarından geldiğini bilmeliyiz."
   ]
  },
  {
   "cell_type": "code",
   "execution_count": 7,
   "metadata": {},
   "outputs": [
    {
     "data": {
      "text/plain": [
       "array([[5, 1],\n",
       "       [1, 3]])"
      ]
     },
     "execution_count": 7,
     "metadata": {},
     "output_type": "execute_result"
    }
   ],
   "source": [
    "a=np.array([[5,1],[1,3]])\n",
    "a  #katsayılar matrisi"
   ]
  },
  {
   "cell_type": "code",
   "execution_count": 5,
   "metadata": {},
   "outputs": [
    {
     "data": {
      "text/plain": [
       "array([12, 10])"
      ]
     },
     "execution_count": 5,
     "metadata": {},
     "output_type": "execute_result"
    }
   ],
   "source": [
    "b=np.array([12,10])\n",
    "b  #sonuçlar matrisi"
   ]
  },
  {
   "cell_type": "markdown",
   "metadata": {},
   "source": [
    "Sıra x0 ve x1 değişkenklerimizi bulmaya geldi. Bu işlemi yaparken elde edeceğim iki sonucu ileride kullanacağımı varsayarak bir değişkene atıyorum."
   ]
  },
  {
   "cell_type": "code",
   "execution_count": 8,
   "metadata": {},
   "outputs": [
    {
     "data": {
      "text/plain": [
       "array([1.85714286, 2.71428571])"
      ]
     },
     "execution_count": 8,
     "metadata": {},
     "output_type": "execute_result"
    }
   ],
   "source": [
    "x=np.linalg.solve(a,b)\n",
    "x"
   ]
  },
  {
   "cell_type": "markdown",
   "metadata": {},
   "source": [
    "İlk sonuç x0'in ikinci sonuç ise x1'in değeridir."
   ]
  },
  {
   "cell_type": "markdown",
   "metadata": {},
   "source": []
  },
  {
   "cell_type": "markdown",
   "metadata": {},
   "source": []
  },
  {
   "cell_type": "markdown",
   "metadata": {},
   "source": [
    "### [13. Matrislerde Çarpma İşlemi notlarına geçmek için tıklayınız.](https://github.com/semihstp/Veri-Bilimi-Not-Defterim/blob/master/Numpy%20K%C3%BCt%C3%BCphanesi/13.%20Matrislerde%20%C3%87arpma%20%C4%B0%C5%9Flemi.ipynb)"
   ]
  }
 ],
 "metadata": {
  "kernelspec": {
   "display_name": "Python 3",
   "language": "python",
   "name": "python3"
  },
  "language_info": {
   "codemirror_mode": {
    "name": "ipython",
    "version": 3
   },
   "file_extension": ".py",
   "mimetype": "text/x-python",
   "name": "python",
   "nbconvert_exporter": "python",
   "pygments_lexer": "ipython3",
   "version": "3.7.4"
  }
 },
 "nbformat": 4,
 "nbformat_minor": 2
}
