{
 "cells": [
  {
   "cell_type": "markdown",
   "metadata": {},
   "source": [
    "<font color='green'>    \n",
    "# _Neden Numpy kütüphanesi bu kadar önemli ?_"
   ]
  },
  {
   "cell_type": "markdown",
   "metadata": {},
   "source": [
    "* ###   Bilimsel hesaplar için kullanılır.\n",
    " "
   ]
  },
  {
   "cell_type": "markdown",
   "metadata": {},
   "source": [
    "* ###  Çok boyutlu dizi işlemlerini döngü kullanmadan yapmamıza olanak yarar"
   ]
  },
  {
   "cell_type": "markdown",
   "metadata": {},
   "source": [
    "* ###  En önemli özelliği n boyutlu dizilerle işlem yapabilmemizdir. n boyutlu dizi nesnesi büyük verilerle hızlı işlem yapabilmemizi sağlar."
   ]
  },
  {
   "cell_type": "markdown",
   "metadata": {},
   "source": [
    "* ### Tek boyutlu arrayler,çok boyutlu arrayler ve matrisler üzerinde yüksek performanslı çalışma imkanı sağlar.\n"
   ]
  },
  {
   "cell_type": "markdown",
   "metadata": {},
   "source": [
    "* ###  Listelere benzerdir,farkı verimli veri saklama ve vektörel operasyonlardır.\n"
   ]
  },
  {
   "cell_type": "markdown",
   "metadata": {},
   "source": [
    "* ###  Tek tip olarak kabul eder. Listelerdeki gibi içindeki her elemana farklı bir veri tipi bilgisi depolamaz. Onun yerine sabit tip baskısı ile tüm array'i sadece int, sadece float şeklinde tanımlar. Bu tek tipi de örneğin listenin tipi integer'dır şeklinde depolar."
   ]
  }
 ],
 "metadata": {
  "kernelspec": {
   "display_name": "Python 3",
   "language": "python",
   "name": "python3"
  },
  "language_info": {
   "codemirror_mode": {
    "name": "ipython",
    "version": 3
   },
   "file_extension": ".py",
   "mimetype": "text/x-python",
   "name": "python",
   "nbconvert_exporter": "python",
   "pygments_lexer": "ipython3",
   "version": "3.7.4"
  }
 },
 "nbformat": 4,
 "nbformat_minor": 2
}
