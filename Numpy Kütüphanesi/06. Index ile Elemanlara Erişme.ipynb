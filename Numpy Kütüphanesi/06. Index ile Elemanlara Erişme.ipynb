{
 "cells": [
  {
   "cell_type": "markdown",
   "metadata": {},
   "source": [
    "<font color='green'>\n",
    "\n",
    "# Index ile Elemanlara Erişme"
   ]
  },
  {
   "cell_type": "markdown",
   "metadata": {},
   "source": []
  },
  {
   "cell_type": "markdown",
   "metadata": {},
   "source": [
    "**Bir elemanın listede kaçıncı sırada olduğu ve o elemanın index'i birbirinden farklı ancak ilişkili şeylerdir. İki terim arasındaki ilişkiyi açıklayalım:**\n",
    "\n",
    "**Index her zaman gösterdiği elemanın sırasından '1' eksiktir.\n",
    "Örneğin 0.index derken kastettiğimiz array'in 1.elemandır.\n",
    "2.index demek 3.eleman demektir.**\n",
    "\n",
    "**Basit gibi görünse de unutulmaması gereken önemli bir kuraldır. Bütün kodlama dillerinde geçerlidir.**"
   ]
  },
  {
   "cell_type": "code",
   "execution_count": 3,
   "metadata": {},
   "outputs": [],
   "source": [
    "import numpy as np"
   ]
  },
  {
   "cell_type": "code",
   "execution_count": 7,
   "metadata": {},
   "outputs": [
    {
     "data": {
      "text/plain": [
       "array([3, 2, 2, 3, 1, 4, 0, 1])"
      ]
     },
     "execution_count": 7,
     "metadata": {},
     "output_type": "execute_result"
    }
   ],
   "source": [
    "x=np.random.randint(5,size=8) #0-5 arası int değer alabilen 8 elemanlı array oluşturalım.\n",
    "x  "
   ]
  },
  {
   "cell_type": "markdown",
   "metadata": {},
   "source": [
    "#### 0. index'teki elemanı görelim:"
   ]
  },
  {
   "cell_type": "code",
   "execution_count": 8,
   "metadata": {},
   "outputs": [
    {
     "data": {
      "text/plain": [
       "3"
      ]
     },
     "execution_count": 8,
     "metadata": {},
     "output_type": "execute_result"
    }
   ],
   "source": [
    "x[0]   "
   ]
  },
  {
   "cell_type": "markdown",
   "metadata": {},
   "source": [
    "1. elemanı bize döndürdü."
   ]
  },
  {
   "cell_type": "markdown",
   "metadata": {},
   "source": [
    "#### 5. index'teki elemanı görelim:"
   ]
  },
  {
   "cell_type": "code",
   "execution_count": 9,
   "metadata": {},
   "outputs": [
    {
     "data": {
      "text/plain": [
       "4"
      ]
     },
     "execution_count": 9,
     "metadata": {},
     "output_type": "execute_result"
    }
   ],
   "source": [
    "x[5]"
   ]
  },
  {
   "cell_type": "markdown",
   "metadata": {},
   "source": [
    "6. elemanı bize döndürdü."
   ]
  },
  {
   "cell_type": "markdown",
   "metadata": {},
   "source": [
    "#### Eğer array'in saymakla uğraşamayacağımız kadar çok elemanı varsa ve son elemanlardan birini istiyorsak bizi büyük bir çileden kurtararak tersten saymamızı sağlayan 'eksi index' in uygulamasını görelim :"
   ]
  },
  {
   "cell_type": "code",
   "execution_count": 11,
   "metadata": {},
   "outputs": [
    {
     "data": {
      "text/plain": [
       "1"
      ]
     },
     "execution_count": 11,
     "metadata": {},
     "output_type": "execute_result"
    }
   ],
   "source": [
    "x[-1]  #son elemanı görmek istiyorsak."
   ]
  },
  {
   "cell_type": "markdown",
   "metadata": {},
   "source": [
    "x[-1] = x[7]"
   ]
  },
  {
   "cell_type": "code",
   "execution_count": 12,
   "metadata": {},
   "outputs": [
    {
     "data": {
      "text/plain": [
       "4"
      ]
     },
     "execution_count": 12,
     "metadata": {},
     "output_type": "execute_result"
    }
   ],
   "source": [
    "x[-3]  #sondan 3.elemanı görmek istiyorsak."
   ]
  },
  {
   "cell_type": "markdown",
   "metadata": {},
   "source": [
    "x[-3]=x[5]"
   ]
  },
  {
   "cell_type": "markdown",
   "metadata": {},
   "source": [
    "#### Eğer elemanda değişiklik yapmak istersek :"
   ]
  },
  {
   "cell_type": "code",
   "execution_count": 14,
   "metadata": {},
   "outputs": [
    {
     "data": {
      "text/plain": [
       "array([58,  2,  2,  3,  1,  4,  0,  1])"
      ]
     },
     "execution_count": 14,
     "metadata": {},
     "output_type": "execute_result"
    }
   ],
   "source": [
    "x[0]=58  #0. index'i yani 1. elemanı 58'e eşitledik.\n",
    "x"
   ]
  },
  {
   "cell_type": "markdown",
   "metadata": {},
   "source": []
  },
  {
   "cell_type": "markdown",
   "metadata": {},
   "source": [
    "### İki boyutlu array'lerde (matrislerde) index ile elemana erişme :"
   ]
  },
  {
   "cell_type": "code",
   "execution_count": 4,
   "metadata": {},
   "outputs": [
    {
     "data": {
      "text/plain": [
       "array([[1, 9, 4, 3, 3],\n",
       "       [2, 0, 7, 4, 2],\n",
       "       [4, 0, 0, 7, 3]])"
      ]
     },
     "execution_count": 4,
     "metadata": {},
     "output_type": "execute_result"
    }
   ],
   "source": [
    "matris=np.random.randint(10,size=(3,5))\n",
    "matris  #0-10 arası rastgele int deger alabilen 3'e 5 matris oluşturalım. "
   ]
  },
  {
   "cell_type": "code",
   "execution_count": 13,
   "metadata": {},
   "outputs": [
    {
     "data": {
      "text/plain": [
       "1"
      ]
     },
     "execution_count": 13,
     "metadata": {},
     "output_type": "execute_result"
    }
   ],
   "source": [
    "matris[0,0]  #endex'i 0 olan satırın ve endex'i 0 olan sütunun kesişimindeki eleman"
   ]
  },
  {
   "cell_type": "code",
   "execution_count": 14,
   "metadata": {},
   "outputs": [
    {
     "data": {
      "text/plain": [
       "3"
      ]
     },
     "execution_count": 14,
     "metadata": {},
     "output_type": "execute_result"
    }
   ],
   "source": [
    "matris[2,4]  #endex'i 2 olan satırın ve endex'i 4 olan sütunun kesişimindeki eleman"
   ]
  },
  {
   "cell_type": "code",
   "execution_count": 15,
   "metadata": {},
   "outputs": [],
   "source": [
    "matris[1,3]=58  #endex'i 1 olan satırın ve endex'i 3 olan sütunun kesişimindeki elemanın değeri 58'e eşitlendi"
   ]
  },
  {
   "cell_type": "code",
   "execution_count": 16,
   "metadata": {},
   "outputs": [
    {
     "data": {
      "text/plain": [
       "array([[ 1,  9,  4,  3,  3],\n",
       "       [ 2,  0,  7, 58,  2],\n",
       "       [ 4,  0,  0,  7,  3]])"
      ]
     },
     "execution_count": 16,
     "metadata": {},
     "output_type": "execute_result"
    }
   ],
   "source": [
    "matris"
   ]
  },
  {
   "cell_type": "markdown",
   "metadata": {},
   "source": [
    "### Görüldüğü üzere 4 olan değerimiz 58 oldu."
   ]
  },
  {
   "cell_type": "markdown",
   "metadata": {},
   "source": [
    "Hatırlayacağımız üzere array'lerimiz tek tip olmak zorunda idi. Örneğin array'imizin tipi integer değer ise sonradan array'in bir elemanına dışarıdan bir float değer atasak dahi ondalık değerleri siler,yok olarak görür ve int tip olarak array'e ekler. Örnek vermek gerekirse 'matris' array'i int tipindedir. Bir elemanına float değer ataması yapmayı deneyelim : "
   ]
  },
  {
   "cell_type": "code",
   "execution_count": 17,
   "metadata": {},
   "outputs": [
    {
     "data": {
      "text/plain": [
       "array([[ 1,  9,  4,  3,  3],\n",
       "       [ 2, 42,  7, 58,  2],\n",
       "       [ 4,  0,  0,  7,  3]])"
      ]
     },
     "execution_count": 17,
     "metadata": {},
     "output_type": "execute_result"
    }
   ],
   "source": [
    "matris[1,1]=42.35\n",
    "matris"
   ]
  },
  {
   "cell_type": "markdown",
   "metadata": {},
   "source": [
    "42.35 in ondalık kısmını attı ve sadece 42 kısmını array'e ekledi."
   ]
  },
  {
   "cell_type": "code",
   "execution_count": null,
   "metadata": {},
   "outputs": [],
   "source": []
  },
  {
   "cell_type": "code",
   "execution_count": null,
   "metadata": {},
   "outputs": [],
   "source": []
  },
  {
   "cell_type": "code",
   "execution_count": null,
   "metadata": {},
   "outputs": [],
   "source": []
  },
  {
   "cell_type": "markdown",
   "metadata": {},
   "source": [
    "### [07. Array'in Altkümelerine Erişme 'Slicing' notlarına geçmek için tıklayınız.](https://github.com/semihstp/Veri-Bilimi-Not-Defterim/blob/master/Numpy%20K%C3%BCt%C3%BCphanesi/07.%20Array'in%20Altk%C3%BCmelerine%20Eri%C5%9Fme%20'Slicing'.ipynb)"
   ]
  }
 ],
 "metadata": {
  "kernelspec": {
   "display_name": "Python 3",
   "language": "python",
   "name": "python3"
  },
  "language_info": {
   "codemirror_mode": {
    "name": "ipython",
    "version": 3
   },
   "file_extension": ".py",
   "mimetype": "text/x-python",
   "name": "python",
   "nbconvert_exporter": "python",
   "pygments_lexer": "ipython3",
   "version": "3.7.4"
  }
 },
 "nbformat": 4,
 "nbformat_minor": 2
}
