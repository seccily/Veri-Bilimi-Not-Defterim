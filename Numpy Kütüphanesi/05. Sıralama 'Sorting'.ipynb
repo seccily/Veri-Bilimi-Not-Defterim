{
 "cells": [
  {
   "cell_type": "markdown",
   "metadata": {},
   "source": [
    "<font color='green'>\n",
    "    \n",
    "# Sıralama (Sorting)"
   ]
  },
  {
   "cell_type": "markdown",
   "metadata": {},
   "source": [
    "## Array içerisindeki değerleri büyükten küçüğe sıralamak için kullanılan metottur."
   ]
  },
  {
   "cell_type": "code",
   "execution_count": 1,
   "metadata": {},
   "outputs": [],
   "source": [
    "import numpy as np"
   ]
  },
  {
   "cell_type": "code",
   "execution_count": 2,
   "metadata": {},
   "outputs": [
    {
     "data": {
      "text/plain": [
       "array([ 3,  8,  6, 11,  2,  5])"
      ]
     },
     "execution_count": 2,
     "metadata": {},
     "output_type": "execute_result"
    }
   ],
   "source": [
    "v=np.array([3,8,6,11,2,5])  #rastgele birkaç değer vererek bir array oluşturalım\n",
    "v"
   ]
  },
  {
   "cell_type": "markdown",
   "metadata": {},
   "source": [
    "####Küçükten büyüğe sıralayalım :"
   ]
  },
  {
   "cell_type": "code",
   "execution_count": 4,
   "metadata": {},
   "outputs": [
    {
     "data": {
      "text/plain": [
       "array([ 2,  3,  5,  6,  8, 11])"
      ]
     },
     "execution_count": 4,
     "metadata": {},
     "output_type": "execute_result"
    }
   ],
   "source": [
    "v.sort()\n",
    "v"
   ]
  },
  {
   "cell_type": "markdown",
   "metadata": {},
   "source": [
    "veya"
   ]
  },
  {
   "cell_type": "code",
   "execution_count": 5,
   "metadata": {},
   "outputs": [
    {
     "data": {
      "text/plain": [
       "array([ 2,  3,  5,  6,  8, 11])"
      ]
     },
     "execution_count": 5,
     "metadata": {},
     "output_type": "execute_result"
    }
   ],
   "source": [
    "np.sort(v)  #bu yöntem sayesinde ekstra olarak v'yi ekrana bastırmak istediğimi bildirmeme gerek kalmıyor."
   ]
  },
  {
   "cell_type": "markdown",
   "metadata": {},
   "source": []
  },
  {
   "cell_type": "markdown",
   "metadata": {},
   "source": [
    "### İki boyutlu array'lerde (matrislerde) sıralama işlemi :"
   ]
  },
  {
   "cell_type": "code",
   "execution_count": 7,
   "metadata": {},
   "outputs": [
    {
     "data": {
      "text/plain": [
       "array([[13.47196739, 16.39189996, 19.5659078 ],\n",
       "       [21.29120268, 21.70406873, 20.0683672 ],\n",
       "       [19.8815681 , 19.02982097, 16.14199203]])"
      ]
     },
     "execution_count": 7,
     "metadata": {},
     "output_type": "execute_result"
    }
   ],
   "source": [
    "matris=np.random.normal(20,5,(3,3))  #ortalaması 20 standart sapması 3 olan 3'e 3 matris oluşturalım\n",
    "matris"
   ]
  },
  {
   "cell_type": "markdown",
   "metadata": {},
   "source": [
    "#### Her bir satırı kendi içinde büyükten küçüğe sıralamak için :"
   ]
  },
  {
   "cell_type": "code",
   "execution_count": 9,
   "metadata": {},
   "outputs": [
    {
     "data": {
      "text/plain": [
       "array([[13.47196739, 16.39189996, 19.5659078 ],\n",
       "       [20.0683672 , 21.29120268, 21.70406873],\n",
       "       [16.14199203, 19.02982097, 19.8815681 ]])"
      ]
     },
     "execution_count": 9,
     "metadata": {},
     "output_type": "execute_result"
    }
   ],
   "source": [
    "matris.sort(axis=1)\n",
    "matris"
   ]
  },
  {
   "cell_type": "raw",
   "metadata": {},
   "source": [
    "veya"
   ]
  },
  {
   "cell_type": "code",
   "execution_count": 10,
   "metadata": {},
   "outputs": [
    {
     "data": {
      "text/plain": [
       "array([[13.47196739, 16.39189996, 19.5659078 ],\n",
       "       [20.0683672 , 21.29120268, 21.70406873],\n",
       "       [16.14199203, 19.02982097, 19.8815681 ]])"
      ]
     },
     "execution_count": 10,
     "metadata": {},
     "output_type": "execute_result"
    }
   ],
   "source": [
    "np.sort(matris,axis=1)"
   ]
  },
  {
   "cell_type": "markdown",
   "metadata": {},
   "source": []
  },
  {
   "cell_type": "markdown",
   "metadata": {},
   "source": [
    "#### Her bir sütunu kendi içinde büyükten küçüğe sıralamak için :"
   ]
  },
  {
   "cell_type": "markdown",
   "metadata": {},
   "source": [
    "Önce yeniden karışık bir matris hazırlayalım."
   ]
  },
  {
   "cell_type": "code",
   "execution_count": 14,
   "metadata": {},
   "outputs": [
    {
     "data": {
      "text/plain": [
       "array([[ 7.01888109, 11.12980108,  3.09856182, 10.12296292],\n",
       "       [10.61334027, 10.53074776, 12.66220352,  8.26253233],\n",
       "       [ 8.48081747,  5.84297082,  8.10274906, 11.84693706],\n",
       "       [14.37895617, 14.54409051, 11.79142913,  7.89933234]])"
      ]
     },
     "execution_count": 14,
     "metadata": {},
     "output_type": "execute_result"
    }
   ],
   "source": [
    "matris=np.random.normal(10,3,(4,4))  #ortalaması 10 standart sapması 3 olan 4'e 4 matris\n",
    "matris"
   ]
  },
  {
   "cell_type": "code",
   "execution_count": 15,
   "metadata": {},
   "outputs": [
    {
     "data": {
      "text/plain": [
       "array([[ 7.01888109,  5.84297082,  3.09856182,  7.89933234],\n",
       "       [ 8.48081747, 10.53074776,  8.10274906,  8.26253233],\n",
       "       [10.61334027, 11.12980108, 11.79142913, 10.12296292],\n",
       "       [14.37895617, 14.54409051, 12.66220352, 11.84693706]])"
      ]
     },
     "execution_count": 15,
     "metadata": {},
     "output_type": "execute_result"
    }
   ],
   "source": [
    "matris.sort(axis=0)\n",
    "matris"
   ]
  },
  {
   "cell_type": "markdown",
   "metadata": {},
   "source": [
    "veya"
   ]
  },
  {
   "cell_type": "code",
   "execution_count": 16,
   "metadata": {},
   "outputs": [
    {
     "data": {
      "text/plain": [
       "array([[ 7.01888109,  5.84297082,  3.09856182,  7.89933234],\n",
       "       [ 8.48081747, 10.53074776,  8.10274906,  8.26253233],\n",
       "       [10.61334027, 11.12980108, 11.79142913, 10.12296292],\n",
       "       [14.37895617, 14.54409051, 12.66220352, 11.84693706]])"
      ]
     },
     "execution_count": 16,
     "metadata": {},
     "output_type": "execute_result"
    }
   ],
   "source": [
    "np.sort(matris,axis=0)"
   ]
  },
  {
   "cell_type": "markdown",
   "metadata": {},
   "source": []
  },
  {
   "cell_type": "markdown",
   "metadata": {},
   "source": []
  },
  {
   "cell_type": "markdown",
   "metadata": {},
   "source": [
    "### [06. Index ile Elemanlara Erişme notlarına geçmek için tıklayınız.](https://github.com/semihstp/Veri-Bilimi-Not-Defterim/blob/master/Numpy%20K%C3%BCt%C3%BCphanesi/06.%20Index%20ile%20Elemanlara%20Eri%C5%9Fme.ipynb)"
   ]
  }
 ],
 "metadata": {
  "kernelspec": {
   "display_name": "Python 3",
   "language": "python",
   "name": "python3"
  },
  "language_info": {
   "codemirror_mode": {
    "name": "ipython",
    "version": 3
   },
   "file_extension": ".py",
   "mimetype": "text/x-python",
   "name": "python",
   "nbconvert_exporter": "python",
   "pygments_lexer": "ipython3",
   "version": "3.7.4"
  }
 },
 "nbformat": 4,
 "nbformat_minor": 2
}
