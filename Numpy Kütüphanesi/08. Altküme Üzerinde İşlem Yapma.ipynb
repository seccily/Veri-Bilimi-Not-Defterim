{
 "cells": [
  {
   "cell_type": "markdown",
   "metadata": {},
   "source": [
    "<font color='green'>\n",
    "\n",
    "# Altküme Üzerinde İşlem Yapma"
   ]
  },
  {
   "cell_type": "markdown",
   "metadata": {},
   "source": [
    "### Matematikten bildiğimiz altküme işlemini Numpy kütüphanesi ile python üzerinden gerçekleyeceğiz. Öncelikle *altküme* kavramını açıklayalım."
   ]
  },
  {
   "cell_type": "markdown",
   "metadata": {},
   "source": [
    "#### Altküme : Bir A kümesinin bütün elemanları B kümesinin de elemanları ise \"A kümesi B kümesinin alt kümesidir\" denir. Şimdi hatırlatmak için basit bir örnek verdikten sonra işin bizi ilgilendiren kod kısımlarına geçelim"
   ]
  },
  {
   "cell_type": "markdown",
   "metadata": {},
   "source": [
    "![](https://img.eba.gov.tr/108/372/5c4/0c7/476/684/c1f/834/7e0/ea5/fdd/0e7/d81/ed6/003/1083725c40c7476684c1f8347e0ea5fdd0e7d81ed6003_200_200.png/800/800)"
   ]
  },
  {
   "cell_type": "code",
   "execution_count": 1,
   "metadata": {},
   "outputs": [],
   "source": [
    "import numpy as np"
   ]
  },
  {
   "cell_type": "markdown",
   "metadata": {},
   "source": [
    "### 10'a kadar int deger alabilen 4'e 4 bir matris oluşturalım."
   ]
  },
  {
   "cell_type": "code",
   "execution_count": 3,
   "metadata": {},
   "outputs": [
    {
     "data": {
      "text/plain": [
       "array([[0, 1, 8, 6],\n",
       "       [8, 7, 5, 9],\n",
       "       [8, 9, 7, 1],\n",
       "       [9, 6, 5, 5]])"
      ]
     },
     "execution_count": 3,
     "metadata": {},
     "output_type": "execute_result"
    }
   ],
   "source": [
    "matris=np.random.randint(10,size=(4,4))\n",
    "matris"
   ]
  },
  {
   "cell_type": "code",
   "execution_count": 6,
   "metadata": {},
   "outputs": [
    {
     "data": {
      "text/plain": [
       "array([[0, 1, 8, 6],\n",
       "       [8, 7, 5, 9],\n",
       "       [8, 9, 7, 1]])"
      ]
     },
     "execution_count": 6,
     "metadata": {},
     "output_type": "execute_result"
    }
   ],
   "source": [
    "altküme=matris[0:3,0:4]  #0'dan 2'ye kadar olan satırları ve 0'dan 4'e kadar olan sütunları değişkene ata.\n",
    "altküme "
   ]
  },
  {
   "cell_type": "code",
   "execution_count": 9,
   "metadata": {},
   "outputs": [
    {
     "data": {
      "text/plain": [
       "array([[0, 1],\n",
       "       [8, 7]])"
      ]
     },
     "execution_count": 9,
     "metadata": {},
     "output_type": "execute_result"
    }
   ],
   "source": [
    "altküme=matris[0:2,0:2]  #0'dan 2. index'e kadar olan satırları ve 0'dan 2.index'e kadar olan sütunları değişkene ata.\n",
    "altküme"
   ]
  },
  {
   "cell_type": "markdown",
   "metadata": {},
   "source": [
    "#### 'matris' array'inden istediğimiz elemanları 'altküme' adını verdiğimiz başka bir değişkene atadık. Peki matrisimizde o elemanlar hala bulunuyor mu? Bakalım :"
   ]
  },
  {
   "cell_type": "code",
   "execution_count": 7,
   "metadata": {},
   "outputs": [
    {
     "data": {
      "text/plain": [
       "array([[0, 1, 8, 6],\n",
       "       [8, 7, 5, 9],\n",
       "       [8, 9, 7, 1],\n",
       "       [9, 6, 5, 5]])"
      ]
     },
     "execution_count": 7,
     "metadata": {},
     "output_type": "execute_result"
    }
   ],
   "source": [
    "matris"
   ]
  },
  {
   "cell_type": "markdown",
   "metadata": {},
   "source": [
    "#### Görüldüğü üzere 'matris' array'inde herhangi bir degişiklik olmamıştır."
   ]
  },
  {
   "cell_type": "markdown",
   "metadata": {},
   "source": []
  },
  {
   "cell_type": "markdown",
   "metadata": {},
   "source": [
    "### Altkümede elemanın değerini değiştirmek istersek : "
   ]
  },
  {
   "cell_type": "code",
   "execution_count": 11,
   "metadata": {},
   "outputs": [
    {
     "data": {
      "text/plain": [
       "array([[58,  1],\n",
       "       [ 8, 58]])"
      ]
     },
     "execution_count": 11,
     "metadata": {},
     "output_type": "execute_result"
    }
   ],
   "source": [
    "altküme[0,0]=58\n",
    "altküme[1,1]=58\n",
    "altküme"
   ]
  },
  {
   "cell_type": "markdown",
   "metadata": {},
   "source": [
    "Endex'i \"0.satır 0.sütun\" ve \"1.satır 1.sütun\" olan iki elemanın değerini 58'e eşitledik."
   ]
  },
  {
   "cell_type": "code",
   "execution_count": 12,
   "metadata": {},
   "outputs": [
    {
     "data": {
      "text/plain": [
       "array([[58, 59],\n",
       "       [ 8, 58]])"
      ]
     },
     "execution_count": 12,
     "metadata": {},
     "output_type": "execute_result"
    }
   ],
   "source": [
    "altküme[0,1]=59\n",
    "altküme"
   ]
  },
  {
   "cell_type": "markdown",
   "metadata": {},
   "source": [
    "Endex'i 0.satır ve 1.sütun olan elemanın değerini 59 yaptık."
   ]
  },
  {
   "cell_type": "markdown",
   "metadata": {},
   "source": [
    "### Peki altkümede yaptığımız değişiklikler asıl kümemizi etkiler mi? Görelim :"
   ]
  },
  {
   "cell_type": "code",
   "execution_count": 14,
   "metadata": {},
   "outputs": [
    {
     "data": {
      "text/plain": [
       "array([[58, 59,  8,  6],\n",
       "       [ 8, 58,  5,  9],\n",
       "       [ 8,  9,  7,  1],\n",
       "       [ 9,  6,  5,  5]])"
      ]
     },
     "execution_count": 14,
     "metadata": {},
     "output_type": "execute_result"
    }
   ],
   "source": [
    "matris"
   ]
  },
  {
   "cell_type": "markdown",
   "metadata": {},
   "source": [
    "#### Buradan da anlaşılacağı gibi alt kümede yaptığımız değişiklikler ana kümemizi doğrudan etkiler. Yaptığımız her değişiklik ana kümede de kendini gösterdi."
   ]
  },
  {
   "cell_type": "markdown",
   "metadata": {},
   "source": [
    "### Eğer altkümede yaptığımız değişikliklerin ana kümeyi etkilemesini (bozmasını) istemiyorsak :"
   ]
  },
  {
   "cell_type": "code",
   "execution_count": 15,
   "metadata": {},
   "outputs": [
    {
     "data": {
      "text/plain": [
       "array([[5, 8, 4, 5],\n",
       "       [3, 2, 7, 1],\n",
       "       [0, 9, 8, 5],\n",
       "       [2, 9, 6, 0]])"
      ]
     },
     "execution_count": 15,
     "metadata": {},
     "output_type": "execute_result"
    }
   ],
   "source": [
    "matris=np.random.randint(10,size=(4,4))  #önce matrisimizi yeniden oluşturalım.\n",
    "matris"
   ]
  },
  {
   "cell_type": "code",
   "execution_count": 18,
   "metadata": {},
   "outputs": [
    {
     "data": {
      "text/plain": [
       "array([[5, 8],\n",
       "       [3, 2]])"
      ]
     },
     "execution_count": 18,
     "metadata": {},
     "output_type": "execute_result"
    }
   ],
   "source": [
    "altküme=matris[0:2,0:2].copy()  #istenilen aralıktaki değerleri kopyala ve değişkene ata.\n",
    "altküme"
   ]
  },
  {
   "cell_type": "code",
   "execution_count": 19,
   "metadata": {},
   "outputs": [
    {
     "data": {
      "text/plain": [
       "array([[58,  8],\n",
       "       [58,  2]])"
      ]
     },
     "execution_count": 19,
     "metadata": {},
     "output_type": "execute_result"
    }
   ],
   "source": [
    "altküme[0,0]=58\n",
    "altküme[1,0]=58\n",
    "altküme"
   ]
  },
  {
   "cell_type": "markdown",
   "metadata": {},
   "source": [
    "#### Şimdi yeniden ana kümemiz olan 'matris' array'imizi görelim. Değişiklik olup olmadığını kontrol edelim :"
   ]
  },
  {
   "cell_type": "code",
   "execution_count": 20,
   "metadata": {},
   "outputs": [
    {
     "data": {
      "text/plain": [
       "array([[5, 8, 4, 5],\n",
       "       [3, 2, 7, 1],\n",
       "       [0, 9, 8, 5],\n",
       "       [2, 9, 6, 0]])"
      ]
     },
     "execution_count": 20,
     "metadata": {},
     "output_type": "execute_result"
    }
   ],
   "source": [
    "matris"
   ]
  },
  {
   "cell_type": "markdown",
   "metadata": {},
   "source": [
    "#### Beklenildiği üzere kümemiz bozulmadan kendini korudu. Bunun nedeni ise altküme işlemi yapar gibi eleman seçmemiz ancak elemanları almak yerine kopyalayıp başka bir değişkene bu değerleri atamış olmamızdır. Tüm değişiklikler artık sadece bu değişken üzerinde yapılır."
   ]
  },
  {
   "cell_type": "markdown",
   "metadata": {},
   "source": []
  },
  {
   "cell_type": "markdown",
   "metadata": {},
   "source": []
  },
  {
   "cell_type": "markdown",
   "metadata": {},
   "source": [
    "### [09. Fancy Index ile Elemanlara Erişim notlarına geçmek için tıklayınız.](https://github.com/semihstp/Veri-Bilimi-Not-Defterim/blob/master/Numpy%20K%C3%BCt%C3%BCphanesi/09.Fancy%20Index%20ile%20Elemanlara%20Eri%C5%9Fim.ipynb)"
   ]
  }
 ],
 "metadata": {
  "kernelspec": {
   "display_name": "Python 3",
   "language": "python",
   "name": "python3"
  },
  "language_info": {
   "codemirror_mode": {
    "name": "ipython",
    "version": 3
   },
   "file_extension": ".py",
   "mimetype": "text/x-python",
   "name": "python",
   "nbconvert_exporter": "python",
   "pygments_lexer": "ipython3",
   "version": "3.7.4"
  }
 },
 "nbformat": 4,
 "nbformat_minor": 2
}
