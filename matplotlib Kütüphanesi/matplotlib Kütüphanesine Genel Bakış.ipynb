{
 "cells": [
  {
   "cell_type": "markdown",
   "metadata": {},
   "source": [
    "<font color='green'>\n",
    "    \n",
    "# matplotlib Kütüphanesi'ne Genel Bakış"
   ]
  },
  {
   "cell_type": "markdown",
   "metadata": {},
   "source": [
    "## --> Verilerimizi iki boyutlu ortamdan çıkararak görselleştirmeye yarayn bir Python kütüphanesidir. Veri manipülasyonundan, makine öğrenmesinden tutalım da girdisi ve çıktısı olan her alanda kullanılabilir."
   ]
  },
  {
   "cell_type": "markdown",
   "metadata": {},
   "source": [
    "## --> Model oluşturma amaçlı bir kütüphanedir."
   ]
  },
  {
   "cell_type": "markdown",
   "metadata": {},
   "source": [
    "## --> Seaborn kütüphanesi daha kapsamlı bir görselleştirme kütüphanesidir. Bu biraz daha basit grafikler ortaya çıkarır."
   ]
  },
  {
   "cell_type": "markdown",
   "metadata": {},
   "source": [
    "## --> *'%matplotlib notebook'* ile oluşturduğumuz grafikler farklı bir pencerede açılır. Farklı bir pencere bize interaktif çalışma seçeneği sunar. İnteraktif demek grafik açıkken değişiklik yapabiliriz demek. Ancak ben notlarımda statik bir şekilde çalışacağım."
   ]
  },
  {
   "cell_type": "markdown",
   "metadata": {},
   "source": [
    " ### Mesela bu komutu kullandığımızda grafiklerimiz bu tarz bir pencerede açılır. Koda devam edip diğer hücrelerde işlem yapabilmek için pencereyi kapamamız gereklidir. Kapama işlemi için ise gösterilen yere basılması yeterlidir."
   ]
  },
  {
   "cell_type": "markdown",
   "metadata": {},
   "source": [
    "![](https://i.imgur.com/F4XWrjs.jpg)"
   ]
  },
  {
   "cell_type": "markdown",
   "metadata": {},
   "source": [
    "## --> Normalde bu kodu kullanmadığımız zaman çıktılarımız hep statik gelecektir ancak bu kodu kullandıktan sonra tekrar statiğe çevirmek için *'%matplotlib inline'* yazmalıyız."
   ]
  },
  {
   "cell_type": "markdown",
   "metadata": {},
   "source": [
    "## --> Grafikler figure nesnesi ile dizayn edilirler. plt.figure dediğimizde nesne oluşmuş olur. *'plt.style.use(\"fivethirtyeight\")'* komutuyla veya *'plt.style.use(\"seaborn-whitegrid\")'*  grafikleri farklı bir şekilde görme şansımız vardır. Ancak ben klasik olarak görmeyi daha çok sevdiğim için bu iki komutu da kullanmayacağım. Belki sizin hoşunuza gider diyerek buraya not bırakıyorum."
   ]
  },
  {
   "cell_type": "markdown",
   "metadata": {},
   "source": []
  },
  {
   "cell_type": "markdown",
   "metadata": {},
   "source": []
  },
  {
   "cell_type": "markdown",
   "metadata": {},
   "source": [
    "### [01. Temel Grafik Komutları notlarına geçmek için tıklayınız.]()"
   ]
  }
 ],
 "metadata": {
  "kernelspec": {
   "display_name": "Python 3",
   "language": "python",
   "name": "python3"
  },
  "language_info": {
   "codemirror_mode": {
    "name": "ipython",
    "version": 3
   },
   "file_extension": ".py",
   "mimetype": "text/x-python",
   "name": "python",
   "nbconvert_exporter": "python",
   "pygments_lexer": "ipython3",
   "version": "3.7.4"
  }
 },
 "nbformat": 4,
 "nbformat_minor": 2
}
